{
 "cells": [
  {
   "cell_type": "markdown",
   "metadata": {},
   "source": [
    "# CRC Berechnung"
   ]
  },
  {
   "cell_type": "code",
   "execution_count": 1,
   "metadata": {},
   "outputs": [
    {
     "name": "stdout",
     "output_type": "stream",
     "text": [
      "Binary form:\t 1001100  divided by  1111\n",
      "\n",
      "x**6+x**3+x**2\n",
      "x**3+x**2+x+1\n",
      "\n",
      "Binary form (added zeros):\t 1001100000  divided by  1111\n",
      "Result is\t 1101100\n",
      "Remainder is\t 100\n",
      "Working is\t\n",
      "\n",
      "    1101100 \n",
      " ---------- \n",
      " 1001100000\n",
      "1111\n",
      "----\n",
      " 110100000\n",
      " 1111\n",
      " ----\n",
      "  01000000\n",
      "  0000\n",
      "  ----\n",
      "   1000000\n",
      "   1111\n",
      "   ----\n",
      "    111000\n",
      "    1111\n",
      "    ----\n",
      "     00100\n",
      "     0000\n",
      "     ----\n",
      "      0100\n",
      "      0000\n",
      "      ----\n",
      "       100\n",
      "\n",
      "Transmitted value is:\t 1001100100\n"
     ]
    }
   ],
   "source": [
    "import sys  \n",
    "sys.path.insert(0, './helper/')\n",
    "\n",
    "import crc\n",
    "\n",
    "data = \"1001100\"\n",
    "generator = \"1111\"\n",
    "crc.crc(data, generator)"
   ]
  },
  {
   "cell_type": "markdown",
   "metadata": {},
   "source": [
    "# IP Adresse zu Binär/Dezimal Form"
   ]
  },
  {
   "cell_type": "code",
   "execution_count": 2,
   "metadata": {},
   "outputs": [
    {
     "name": "stdout",
     "output_type": "stream",
     "text": [
      "01000011.10110111.11010010.01100011\n",
      "67.183.210.99\n",
      "\n",
      "26\n",
      "255.255.255.192\n",
      "Total Hosts in Subnet: 62\n"
     ]
    }
   ],
   "source": [
    "import sys  \n",
    "sys.path.insert(0, './helper/')\n",
    "\n",
    "import interne_protocole\n",
    "\n",
    "interne_protocole.ip2bin('67.183.210.99')\n",
    "interne_protocole.bin2ip('01000011.10110111.11010010.01100011')\n",
    "\n",
    "print('')\n",
    "\n",
    "interne_protocole.netmask2cidr('255.255.255.192')\n",
    "interne_protocole.cidr2netmask(26)\n",
    "\n",
    "interne_protocole.cidr2hosts(26)"
   ]
  },
  {
   "cell_type": "markdown",
   "metadata": {
    "collapsed": true
   },
   "source": [
    "# Hamming Code"
   ]
  },
  {
   "cell_type": "code",
   "execution_count": 5,
   "metadata": {},
   "outputs": [
    {
     "name": "stdout",
     "output_type": "stream",
     "text": [
      "Hamming code generated would be: 11101010101\n",
      "\n",
      "Error is in 10 bit\n",
      "After correction hamming code is: \n",
      "11101010101\n",
      "\n",
      "Hamming Distance is: 3\n"
     ]
    }
   ],
   "source": [
    "import sys\n",
    "sys.path.insert(0, './helper/')\n",
    "\n",
    "import hamming\n",
    "\n",
    "#hamming.code('1001000') # HSLU 00110010000 = 'H'\n",
    "\n",
    "#hamming.code('1100001') # HSLU 10111001001 = 'a'\n",
    "\n",
    "hamming.code('1101101') # HSLU 11101010101 = 'm'\n",
    "\n",
    "print('')\n",
    "\n",
    "hamming.error('11101010111') # HSLU 11101010101 = 'm'\n",
    "\n",
    "print('')\n",
    "\n",
    "hamming.distance('10110011', '11010010')\n"
   ]
  },
  {
   "cell_type": "code",
   "execution_count": null,
   "metadata": {
    "collapsed": true
   },
   "outputs": [],
   "source": []
  }
 ],
 "metadata": {
  "kernelspec": {
   "display_name": "Python 3",
   "language": "python",
   "name": "python3"
  },
  "language_info": {
   "codemirror_mode": {
    "name": "ipython",
    "version": 3
   },
   "file_extension": ".py",
   "mimetype": "text/x-python",
   "name": "python",
   "nbconvert_exporter": "python",
   "pygments_lexer": "ipython3",
   "version": "3.6.1"
  }
 },
 "nbformat": 4,
 "nbformat_minor": 2
}
